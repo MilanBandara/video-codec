{
 "cells": [
  {
   "cell_type": "code",
   "execution_count": 1,
   "metadata": {},
   "outputs": [],
   "source": [
    "import numpy as np\n",
    "from run_length import *"
   ]
  },
  {
   "cell_type": "markdown",
   "metadata": {},
   "source": [
    "# Testing"
   ]
  },
  {
   "cell_type": "code",
   "execution_count": 8,
   "metadata": {},
   "outputs": [],
   "source": [
    "test = np.array([[16,16,3,3],\n",
    "                    [16,16,3,0],\n",
    "                    [16,3,0,0],\n",
    "                    [16,0,0,0]])\n",
    "\n",
    "matrix = np.array([[16,  16,  16,  16,  24,  40,  51,  0], \n",
    "                    [16,  16,  16,  19,  26,  58,  0,  0],\n",
    "                    [16,  16,  16,  24,  40,  57,  0,  0], \n",
    "                    [14,  17,  22,  29,  51,  0,  0,  0], \n",
    "                    [18,  22,  37,  56,  68, 0, 0,  0], \n",
    "                    [24,  35,  0,  0,  0, 0, 0,  0], \n",
    "                    [49,  64,  0,  0, 0, 0, 0, 0], \n",
    "                    [72,  92,  0,  0, 0, 0, 0,  0]])"
   ]
  },
  {
   "cell_type": "code",
   "execution_count": 9,
   "metadata": {},
   "outputs": [
    {
     "name": "stdout",
     "output_type": "stream",
     "text": [
      "[16, 16, 16, 16, 16, 16, 16, 16, 16, 14, 18, 17, 16, 19, 24, 40, 26, 24, 22, 22, 24, 49, 35, 37, 29, 40, 58, 51, 0, 0, 57, 51, 56, 0, 64, 72, 92, 0, 0, 68, 0, 0, 0, 0, 0, 0, 0, 0, 0, 0, 0, 0, 0, 0, 0, 0, 0, 0, 0, 0, 0, 0, 0, 0]\n"
     ]
    }
   ],
   "source": [
    "result = zigzag_iteration(matrix)\n",
    "print(result)"
   ]
  },
  {
   "cell_type": "code",
   "execution_count": 10,
   "metadata": {},
   "outputs": [
    {
     "name": "stdout",
     "output_type": "stream",
     "text": [
      "[('00010000', '00001001'), ('00001110', '00000001'), ('00010010', '00000001'), ('00010001', '00000001'), ('00010000', '00000001'), ('00010011', '00000001'), ('00011000', '00000001'), ('00101000', '00000001'), ('00011010', '00000001'), ('00011000', '00000001'), ('00010110', '00000010'), ('00011000', '00000001'), ('00110001', '00000001'), ('00100011', '00000001'), ('00100101', '00000001'), ('00011101', '00000001'), ('00101000', '00000001'), ('00111010', '00000001'), ('00110011', '00000001'), ('00000000', '00000010'), ('00111001', '00000001'), ('00110011', '00000001'), ('00111000', '00000001'), ('00000000', '00000001'), ('01000000', '00000001'), ('01001000', '00000001'), ('01011100', '00000001'), ('00000000', '00000010'), ('01000100', '00000001'), ('00000000', '00011000')]\n"
     ]
    }
   ],
   "source": [
    "run_length_code_binary = run_length_coding_binary(result)\n",
    "print(run_length_code_binary)"
   ]
  },
  {
   "cell_type": "code",
   "execution_count": 11,
   "metadata": {},
   "outputs": [
    {
     "name": "stdout",
     "output_type": "stream",
     "text": [
      "000100000000100100001110000000010001001000000001000100010000000100010000000000010001001100000001000110000000000100101000000000010001101000000001000110000000000100010110000000100001100000000001001100010000000100100011000000010010010100000001000111010000000100101000000000010011101000000001001100110000000100000000000000100011100100000001001100110000000100111000000000010000000000000001010000000000000101001000000000010101110000000001000000000000001001000100000000010000000000011000\n"
     ]
    }
   ],
   "source": [
    "bit_sequence = get_bit_sequence(run_length_code_binary)\n",
    "print(bit_sequence)"
   ]
  },
  {
   "cell_type": "code",
   "execution_count": 12,
   "metadata": {},
   "outputs": [
    {
     "name": "stdout",
     "output_type": "stream",
     "text": [
      "[16, 16, 16, 16, 16, 16, 16, 16, 16, 14, 18, 17, 16, 19, 24, 40, 26, 24, 22, 22, 24, 49, 35, 37, 29, 40, 58, 51, 0, 0, 57, 51, 56, 0, 64, 72, 92, 0, 0, 68, 0, 0, 0, 0, 0, 0, 0, 0, 0, 0, 0, 0, 0, 0, 0, 0, 0, 0, 0, 0, 0, 0, 0, 0]\n"
     ]
    }
   ],
   "source": [
    "result = decode_run_length(bit_sequence)\n",
    "print(result)"
   ]
  },
  {
   "cell_type": "code",
   "execution_count": 15,
   "metadata": {},
   "outputs": [
    {
     "name": "stdout",
     "output_type": "stream",
     "text": [
      "[[16 16 16 16 24 40 51  0]\n",
      " [16 16 16 19 26 58  0  0]\n",
      " [16 16 16 24 40 57  0  0]\n",
      " [14 17 22 29 51  0  0  0]\n",
      " [18 22 37 56 68  0  0  0]\n",
      " [24 35  0  0  0  0  0  0]\n",
      " [49 64  0  0  0  0  0  0]\n",
      " [72 92  0  0  0  0  0  0]]\n"
     ]
    }
   ],
   "source": [
    "decoded = np.array(recreate_matrix_from_zigzag(result, 8, 8))\n",
    "print(decoded)"
   ]
  },
  {
   "cell_type": "code",
   "execution_count": 18,
   "metadata": {},
   "outputs": [
    {
     "name": "stdout",
     "output_type": "stream",
     "text": [
      "[[16 16 16 16 24 40 51  0]\n",
      " [16 16 16 19 26 58  0  0]\n",
      " [16 16 16 24 40 57  0  0]\n",
      " [14 17 22 29 51  0  0  0]\n",
      " [18 22 37 56 68  0  0  0]\n",
      " [24 35  0  0  0  0  0  0]\n",
      " [49 64  0  0  0  0  0  0]\n",
      " [72 92  0  0  0  0  0  0]]\n"
     ]
    }
   ],
   "source": [
    "print(matrix)"
   ]
  },
  {
   "cell_type": "code",
   "execution_count": null,
   "metadata": {},
   "outputs": [],
   "source": []
  }
 ],
 "metadata": {
  "kernelspec": {
   "display_name": "Python 3",
   "language": "python",
   "name": "python3"
  },
  "language_info": {
   "codemirror_mode": {
    "name": "ipython",
    "version": 3
   },
   "file_extension": ".py",
   "mimetype": "text/x-python",
   "name": "python",
   "nbconvert_exporter": "python",
   "pygments_lexer": "ipython3",
   "version": "3.9.0"
  }
 },
 "nbformat": 4,
 "nbformat_minor": 2
}
